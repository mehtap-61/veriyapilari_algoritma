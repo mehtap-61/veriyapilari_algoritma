{
  "nbformat": 4,
  "nbformat_minor": 0,
  "metadata": {
    "colab": {
      "provenance": []
    },
    "kernelspec": {
      "name": "python3",
      "display_name": "Python 3"
    },
    "language_info": {
      "name": "python"
    }
  },
  "cells": [
    {
      "cell_type": "code",
      "execution_count": 1,
      "metadata": {
        "colab": {
          "base_uri": "https://localhost:8080/"
        },
        "id": "0CHK6v_PfeZF",
        "outputId": "c8be7298-e12f-4c68-d45d-d620de161ec0"
      },
      "outputs": [
        {
          "output_type": "stream",
          "name": "stdout",
          "text": [
            "Merhaba, İGÜ - İSTKA/ Ders 6\n",
            "3.10.12 (main, Jul 29 2024, 16:56:48) [GCC 11.4.0]\n",
            "Mounted at /content/drive\n",
            "/content/drive/My Drive/VERIYAPILARI_ISTKA\n"
          ]
        }
      ],
      "source": [
        "print(\"Merhaba, İGÜ - İSTKA/ Ders 6\")\n",
        "import sys\n",
        "print(sys.version)\n",
        "from google.colab import drive\n",
        "drive.mount('/content/drive')\n",
        "import os\n",
        "os.chdir('/content/drive/My Drive/VERIYAPILARI_ISTKA')\n",
        "!pwd"
      ]
    },
    {
      "cell_type": "code",
      "source": [
        "# Liste tanımlama\n",
        "dizi = [2, 3, 5, 6, 8, 11, 14]\n",
        "\n",
        "#Çift sayıları tutmak için boş liste\n",
        "numaralistesi = []\n",
        "\n",
        "# for ve if ile çift sayıları bulma\n",
        "for i in dizi:\n",
        "  if i % 2 == 0:\n",
        "    numaralistesi.append(i)\n",
        "\n",
        "print(f\"Listede bulunan çift sayılar: (numaralistesi) \")\n",
        "print(\"Adet çift sayı\", len(numaralistesi), \"bulunmaktadır !!!\")"
      ],
      "metadata": {
        "colab": {
          "base_uri": "https://localhost:8080/"
        },
        "id": "x2TV9vptf6Xs",
        "outputId": "a5847044-05a3-45c9-abe6-b4859d0f92d6"
      },
      "execution_count": 6,
      "outputs": [
        {
          "output_type": "stream",
          "name": "stdout",
          "text": [
            "Listede bulunan çift sayılar: (numaralistesi) \n",
            "Adet çift sayı 4 bulunmaktadır !!!\n"
          ]
        }
      ]
    },
    {
      "cell_type": "code",
      "source": [
        "dizi = [\"elma\", \"muz\", \"çilek\", \"su\", \"çikolata\"] # Malzeme Listesi\n",
        "\n",
        "aranacak_urun =\"muz\" # Aranacak eleman\n",
        "\n",
        "if aranacak_urun in dizi:\n",
        "  print(aranacak_urun,\"liste içerisinde mevcut.\")\n",
        "else:\n",
        "  print(aranacak_urun, \"liste içerisinde mevcut degil.\")"
      ],
      "metadata": {
        "colab": {
          "base_uri": "https://localhost:8080/"
        },
        "id": "ZbwO6pmumSWp",
        "outputId": "7d94f1f2-f6dd-4dc7-f47e-69d84fb2fcc4"
      },
      "execution_count": 7,
      "outputs": [
        {
          "output_type": "stream",
          "name": "stdout",
          "text": [
            "muz liste içerisinde mevcut.\n"
          ]
        }
      ]
    },
    {
      "cell_type": "code",
      "source": [
        "dizi = [\"elma\", \"muz\", \"çilek\", \"su\", \"çikolata\"] #Malzeme Listesi\n",
        "\n",
        "aranacak_urun = input(\"Aranacak Ürün Nedir?\") # Aranacak eleman\n",
        "\n",
        "if aranacak_urun in dizi:\n",
        "  print(aranacak_urun,\"liste içerisinde mevcut.\")\n",
        "else:\n",
        "  print(aranacak_urun, \"liste içerisinde mevcut degil.\")"
      ],
      "metadata": {
        "colab": {
          "base_uri": "https://localhost:8080/"
        },
        "id": "rVMqLJq0nQ7q",
        "outputId": "092a19f8-19a4-42fb-8e8a-7c4714c21b5c"
      },
      "execution_count": 8,
      "outputs": [
        {
          "output_type": "stream",
          "name": "stdout",
          "text": [
            "Aranacak Ürün Nedir?şeftali\n",
            "şeftali liste içerisinde mevcut degil.\n"
          ]
        }
      ]
    },
    {
      "cell_type": "code",
      "source": [
        "# Matematiksel Toplama İşlemi\n",
        "\n",
        "def toplama(a, b):\n",
        "  return a+b\n",
        "#Fonksiyonu çağrılarak kullanma\n",
        "sonuc = toplama(5, 3)\n",
        "print(f\"Toplama sonucu: {sonuc}\")\n",
        "print(\"Toplama sonucu:\",sonuc)"
      ],
      "metadata": {
        "colab": {
          "base_uri": "https://localhost:8080/"
        },
        "id": "1m3H-QRyol46",
        "outputId": "1ca340c2-e8a2-4488-9cf9-767407c8d4f9"
      },
      "execution_count": 11,
      "outputs": [
        {
          "output_type": "stream",
          "name": "stdout",
          "text": [
            "Toplama sonucu: 8\n",
            "Toplama sonucu: 8\n"
          ]
        }
      ]
    },
    {
      "cell_type": "code",
      "source": [
        "# Liste Elemanlarını Toplama\n",
        "sayilar =[1, 2, 3, 4, 5]\n",
        "\n",
        "def liste_toplam(liste):\n",
        "  toplam = 0\n",
        "  for eleman in liste:\n",
        "    toplam += eleman\n",
        "  return toplam\n",
        "\n",
        "# Fonksiyonu çağrılarak kullanma\n",
        "sonuc = liste_toplam(sayilar)\n",
        "print(\"Toplama sonucu:\",sonuc)\n",
        ""
      ],
      "metadata": {
        "colab": {
          "base_uri": "https://localhost:8080/"
        },
        "id": "x1JvjBgYrCQV",
        "outputId": "68032f28-f63f-4b44-c19b-f7c77a41641f"
      },
      "execution_count": 12,
      "outputs": [
        {
          "output_type": "stream",
          "name": "stdout",
          "text": [
            "Toplama sonucu: 15\n"
          ]
        }
      ]
    },
    {
      "cell_type": "code",
      "source": [
        "# Fibonacci Dizisi Hesaplama\n",
        "def fibonacci(n):\n",
        "  if n <= 0:\n",
        "    return \"Geçersiz giriş\"\n",
        "  elif n == 1:\n",
        "    return 0\n",
        "  elif n ==2:\n",
        "    return 1\n",
        "  else:\n",
        "    return fibonacci(n-1)+ fibonacci(n-2)\n",
        "\n",
        "# Fonksiyonu çağırarak kullanma\n",
        "# n = 7\n",
        "n = int(input(\"Bir Sayi Giriniz !!\"))\n",
        "sonuc = fibonacci(n)\n",
        "print(\"Fibonacci dizisinin\", n,\"elemanı:\", sonuc)"
      ],
      "metadata": {
        "colab": {
          "base_uri": "https://localhost:8080/"
        },
        "id": "KQZxouDoy0lP",
        "outputId": "8b1d91b5-b828-4b0a-80e6-a0cfd9051167"
      },
      "execution_count": 14,
      "outputs": [
        {
          "output_type": "stream",
          "name": "stdout",
          "text": [
            "Bir Sayi Giriniz !!5\n",
            "Fibonacci dizisinin 5 elemanı: 3\n"
          ]
        }
      ]
    },
    {
      "cell_type": "code",
      "source": [
        "# EBOB ve EKOK Bulma\n",
        "def ebob(a, b):\n",
        "    while b:\n",
        "        a, b = b, a % b\n",
        "    return a\n",
        "\n",
        "def ekok(a, b):\n",
        "    return a * b // ebob(a, b)\n",
        "\n",
        "# Kullanıcıdan iki sayı al\n",
        "Bir_Sayi = int(input(\"Birinci sayıyı girin: \"))\n",
        "iki_Sayi = int(input(\"İkinci sayıyı girin: \"))\n",
        "\n",
        "# EBOB ve EKOK hesapla\n",
        "ebob_sonuc = ebob(Bir_Sayi, iki_Sayi)\n",
        "ekok_sonuc = ekok(Bir_Sayi, iki_Sayi)\n",
        "\n",
        "# Sonuçları göster\n",
        "print(\"Sayılarının EBOB'u: \", ebob_sonuc)\n",
        "print(\"Sayılarının EKOK'u: \", ekok_sonuc)\n"
      ],
      "metadata": {
        "colab": {
          "base_uri": "https://localhost:8080/"
        },
        "id": "vzKFJtDy2dMG",
        "outputId": "650a8635-def1-4238-c7c8-d129890b2846"
      },
      "execution_count": 19,
      "outputs": [
        {
          "output_type": "stream",
          "name": "stdout",
          "text": [
            "Birinci sayıyı girin: 18\n",
            "İkinci sayıyı girin: 86\n",
            "Sayılarının EBOB'u:  2\n",
            "Sayılarının EKOK'u:  774\n"
          ]
        }
      ]
    },
    {
      "cell_type": "code",
      "source": [
        "# Asal Sayı Kontrolü ve Asal Sayılar Listesi\n",
        "\n",
        "def asal_mi(sayi):\n",
        "    if sayi < 2:\n",
        "        return False\n",
        "    for i in range(2, int(sayi ** 0.5) + 1):\n",
        "        if sayi %i == 0:\n",
        "           return False\n",
        "    return True\n",
        "\n",
        "def asal_sayilar(aralık):\n",
        "    asal_listesi = []\n",
        "    for sayi in range(2, aralik +1):\n",
        "        if asal_mi(sayi):\n",
        "           asal_listesi.append(sayi)\n",
        "    return asal_listesi\n",
        "\n",
        "# Fonksiyonları çağırarak kullanma\n",
        "aralik = 50\n",
        "sonuc = asal_sayilar(aralik)\n",
        "print(\"1 ile\", aralik, \" arasındaki asal sayılar: \", sonuc)"
      ],
      "metadata": {
        "colab": {
          "base_uri": "https://localhost:8080/"
        },
        "id": "mv7rWbSG6cc2",
        "outputId": "97223d30-cc33-4e35-97da-012e1192f66c"
      },
      "execution_count": 20,
      "outputs": [
        {
          "output_type": "stream",
          "name": "stdout",
          "text": [
            "1 ile 50  arasındaki asal sayılar:  [2, 3, 5, 7, 11, 13, 17, 19, 23, 29, 31, 37, 41, 43, 47]\n"
          ]
        }
      ]
    },
    {
      "cell_type": "code",
      "source": [
        "buzdolabi = { # Buzdolabındaki meyveler ve miktarlarını tutan sözlük\n",
        "    \"elma\": 5,    # 5 kilo elma\n",
        "    \"muz\": 3,     # 3 kilo muz\n",
        "    \"kiraz\": 2,   # 2 kilo kiraz\n",
        "    \"hurma\": 4    # 4 kilo hurma\n",
        "}\n",
        "\n",
        "def buzdolabi_durumu_yazdir(): # Mevcut buzdolabı durumunu yazdıran fonksiyon\n",
        "    print(\"Buzdolabındaki meyve miktarları:\")\n",
        "    for meyve, miktar in buzdolabi.items():\n",
        "        print(f\"{meyve}: {miktar} kilo\")\n",
        "    print(\"\\n\")\n",
        "\n",
        "\n",
        "def meyve_tuket(meyve, miktar): # Meyveden belirtilen miktarı düşen fonksiyon\n",
        "    if meyve in buzdolabi:\n",
        "        if buzdolabi[meyve] >= miktar:\n",
        "            buzdolabi[meyve] -= miktar\n",
        "            print(f\"{miktar} kilo {meyve} tüketildi.\")\n",
        "            if buzdolabi[meyve] == 0:\n",
        "                print(f\"{meyve} kalmadı. {meyve} almalısın!\")\n",
        "                yeni_miktar = float(input(f\"Kaç kilo {meyve} almak istersiniz?: \"))\n",
        "                buzdolabi[meyve] = yeni_miktar\n",
        "                print(f\"{meyve} buzdolabına {yeni_miktar} kilo olarak eklendi.\")\n",
        "        else:\n",
        "            print(f\"Buzdolabında yeterli {meyve} yok. Mevcut miktar: {buzdolabi[meyve]} kilo.\")\n",
        "    else:\n",
        "        print(f\"Buzdolabında {meyve} bulunmuyor.\")\n",
        "\n",
        "print(\"Buzdolabı Uygulaması\") # Uygulama başlangıc noktası\n",
        "buzdolabi_durumu_yazdir()\n",
        "\n",
        "while True: #Ana döngü tanımlaması\n",
        "    # Kullanıcıdan meyve ve miktar bilgisi alma\n",
        "    meyve = input(\"Hangi meyveyi tüketmek istersiniz? (Çıkmak için 'exit' yazın): \").lower()\n",
        "\n",
        "    if meyve == 'exit':\n",
        "        print(\"Uygulama sonlandırılıyor.\")\n",
        "        break\n",
        "\n",
        "    miktar = float(input(f\"Kaç kilo {meyve} tüketmek istersiniz?: \"))\n",
        "\n",
        "    meyve_tuket(meyve, miktar)     # Meyve tüketme işlemi\n",
        "\n",
        "    buzdolabi_durumu_yazdir()  # Güncellenmiş buzdolabı durumunu yazdırma"
      ],
      "metadata": {
        "colab": {
          "base_uri": "https://localhost:8080/"
        },
        "id": "6ZzXFL3A8id7",
        "outputId": "21f493d1-ee2c-4edc-d290-911598aa437a"
      },
      "execution_count": 21,
      "outputs": [
        {
          "output_type": "stream",
          "name": "stdout",
          "text": [
            "Buzdolabı Uygulaması\n",
            "Buzdolabındaki meyve miktarları:\n",
            "elma: 5 kilo\n",
            "muz: 3 kilo\n",
            "kiraz: 2 kilo\n",
            "hurma: 4 kilo\n",
            "\n",
            "\n",
            "Hangi meyveyi tüketmek istersiniz? (Çıkmak için 'exit' yazın): muz\n",
            "Kaç kilo muz tüketmek istersiniz?: 2\n",
            "2.0 kilo muz tüketildi.\n",
            "Buzdolabındaki meyve miktarları:\n",
            "elma: 5 kilo\n",
            "muz: 1.0 kilo\n",
            "kiraz: 2 kilo\n",
            "hurma: 4 kilo\n",
            "\n",
            "\n",
            "Hangi meyveyi tüketmek istersiniz? (Çıkmak için 'exit' yazın): kiraz\n",
            "Kaç kilo kiraz tüketmek istersiniz?: 1\n",
            "1.0 kilo kiraz tüketildi.\n",
            "Buzdolabındaki meyve miktarları:\n",
            "elma: 5 kilo\n",
            "muz: 1.0 kilo\n",
            "kiraz: 1.0 kilo\n",
            "hurma: 4 kilo\n",
            "\n",
            "\n",
            "Hangi meyveyi tüketmek istersiniz? (Çıkmak için 'exit' yazın): exit\n",
            "Uygulama sonlandırılıyor.\n"
          ]
        }
      ]
    },
    {
      "cell_type": "code",
      "source": [
        "# Diyet listesindeki besinler ve kalorilerini tutan sözlük (Adet başına kalori)\n",
        "diyet_listesi = {\n",
        "    \"elma\": {\"miktar\": 5, \"kalori\": 52}, # 1 adet elma: 52 kalori\n",
        "     \"muz\": {\"miktar\": 3, \"kalori\": 89},     # 1 adet muz: 89 kalori\n",
        "    \"kiraz\": {\"miktar\": 2, \"kalori\": 50},   # 1 adet kiraz: 50 kalori\n",
        "    \"hurma\": {\"miktar\": 4, \"kalori\": 282}   # 1 adet hurma: 282 kalori\n",
        "}\n",
        "\n",
        "# Mevcut diyet listesini yazdıran fonksiyon\n",
        "def diyet_listesi_yazdir():\n",
        "    print(\"Diyet listesindeki besin miktarları ve kalorileri:\")\n",
        "    for besin, bilgi in diyet_listesi.items():\n",
        "        print(f\"{besin}: {bilgi['miktar']} Adet, Toplam Kalori: {bilgi['miktar'] * bilgi['kalori']} kalori\")\n",
        "    print(\"\\n\")\n",
        "\n",
        "# Besinden belirtilen miktarı düşen ve kalori hesaplayan fonksiyon\n",
        "def besin_tuket(besin, miktar):\n",
        "    if besin in diyet_listesi:\n",
        "        if diyet_listesi[besin][\"miktar\"] >= miktar:\n",
        "            diyet_listesi[besin][\"miktar\"] -= miktar\n",
        "            tuketilen_kalori = miktar * diyet_listesi[besin][\"kalori\"]\n",
        "            print(f\"{miktar} kilo {besin} tüketildi. Alınan kalori: {tuketilen_kalori} kalori.\")\n",
        "            if diyet_listesi[besin][\"miktar\"] == 0:\n",
        "                print(f\"{besin} kalmadı. {besin} almalısın!\")\n",
        "                yeni_miktar = float(input(f\"Kaç kilo {besin} almak istersiniz?: \"))\n",
        "                diyet_listesi[besin][\"miktar\"] = yeni_miktar\n",
        "                print(f\"{besin} diyet listesine {yeni_miktar} kilo olarak eklendi.\")\n",
        "        else:\n",
        "            print(f\"Diyet listesinde yeterli {besin} yok. Mevcut miktar: {diyet_listesi[besin]['miktar']} kilo.\")\n",
        "    else:\n",
        "        print(f\"Diyet listesinde {besin} bulunmuyor.\")\n",
        "\n",
        "print(\"Diyet Uygulaması\") # Uygulama başlangıcı\n",
        "diyet_listesi_yazdir()\n",
        "\n",
        "while True:     # Kullanıcıdan besin ve miktar bilgisi alma\n",
        "\n",
        "    besin = input(\"Hangi besini tüketmek istersiniz? (Çıkmak için 'exit' yazın): \").lower()\n",
        "\n",
        "    if besin == 'exit':\n",
        "        print(\"Uygulama sonlandırılıyor.\")\n",
        "        break\n",
        "\n",
        "    miktar = float(input(f\"Kaç adet{besin} tüketmek istersiniz?: \"))\n",
        "\n",
        "    besin_tuket(besin, miktar)     # Besin tüketme işlemi\n",
        "\n",
        "    diyet_listesi_yazdir()     # Güncellenmiş diyet listesini yazdırma\n",
        ""
      ],
      "metadata": {
        "colab": {
          "base_uri": "https://localhost:8080/"
        },
        "id": "Q4BuCtKH_Vou",
        "outputId": "6624612f-c42c-4a10-82ef-018b3b62e38a"
      },
      "execution_count": 23,
      "outputs": [
        {
          "output_type": "stream",
          "name": "stdout",
          "text": [
            "Diyet Uygulaması\n",
            "Diyet listesindeki besin miktarları ve kalorileri:\n",
            "elma: 5 Adet, Toplam Kalori: 260 kalori\n",
            "muz: 3 Adet, Toplam Kalori: 267 kalori\n",
            "kiraz: 2 Adet, Toplam Kalori: 100 kalori\n",
            "hurma: 4 Adet, Toplam Kalori: 1128 kalori\n",
            "\n",
            "\n",
            "Hangi besini tüketmek istersiniz? (Çıkmak için 'exit' yazın): kiraz\n",
            "Kaç adetkiraz tüketmek istersiniz?: 2\n",
            "2.0 kilo kiraz tüketildi. Alınan kalori: 100.0 kalori.\n",
            "kiraz kalmadı. kiraz almalısın!\n",
            "Kaç kilo kiraz almak istersiniz?: 15\n",
            "kiraz diyet listesine 15.0 kilo olarak eklendi.\n",
            "Diyet listesindeki besin miktarları ve kalorileri:\n",
            "elma: 5 Adet, Toplam Kalori: 260 kalori\n",
            "muz: 3 Adet, Toplam Kalori: 267 kalori\n",
            "kiraz: 15.0 Adet, Toplam Kalori: 750.0 kalori\n",
            "hurma: 4 Adet, Toplam Kalori: 1128 kalori\n",
            "\n",
            "\n",
            "Hangi besini tüketmek istersiniz? (Çıkmak için 'exit' yazın): hurma\n",
            "Kaç adethurma tüketmek istersiniz?: 2\n",
            "2.0 kilo hurma tüketildi. Alınan kalori: 564.0 kalori.\n",
            "Diyet listesindeki besin miktarları ve kalorileri:\n",
            "elma: 5 Adet, Toplam Kalori: 260 kalori\n",
            "muz: 3 Adet, Toplam Kalori: 267 kalori\n",
            "kiraz: 15.0 Adet, Toplam Kalori: 750.0 kalori\n",
            "hurma: 2.0 Adet, Toplam Kalori: 564.0 kalori\n",
            "\n",
            "\n",
            "Hangi besini tüketmek istersiniz? (Çıkmak için 'exit' yazın): exit\n",
            "Uygulama sonlandırılıyor.\n"
          ]
        }
      ]
    }
  ]
}